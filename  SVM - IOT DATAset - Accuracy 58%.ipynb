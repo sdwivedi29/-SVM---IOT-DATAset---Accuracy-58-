{
 "cells": [
  {
   "cell_type": "markdown",
   "metadata": {},
   "source": [
    "# SVM - IOT DATAset - Accuracy"
   ]
  },
  {
   "cell_type": "code",
   "execution_count": 1,
   "metadata": {},
   "outputs": [
    {
     "data": {
      "text/html": [
       "<div>\n",
       "<style scoped>\n",
       "    .dataframe tbody tr th:only-of-type {\n",
       "        vertical-align: middle;\n",
       "    }\n",
       "\n",
       "    .dataframe tbody tr th {\n",
       "        vertical-align: top;\n",
       "    }\n",
       "\n",
       "    .dataframe thead th {\n",
       "        text-align: right;\n",
       "    }\n",
       "</style>\n",
       "<table border=\"1\" class=\"dataframe\">\n",
       "  <thead>\n",
       "    <tr style=\"text-align: right;\">\n",
       "      <th></th>\n",
       "      <th>Fatal</th>\n",
       "      <th>S1</th>\n",
       "      <th>S2</th>\n",
       "      <th>S3</th>\n",
       "      <th>S4</th>\n",
       "      <th>S5</th>\n",
       "      <th>S6</th>\n",
       "      <th>S7</th>\n",
       "      <th>S8</th>\n",
       "      <th>S9</th>\n",
       "      <th>...</th>\n",
       "      <th>S13</th>\n",
       "      <th>S14</th>\n",
       "      <th>S15</th>\n",
       "      <th>S16</th>\n",
       "      <th>S17</th>\n",
       "      <th>S18</th>\n",
       "      <th>S19</th>\n",
       "      <th>S20</th>\n",
       "      <th>S21</th>\n",
       "      <th>S22</th>\n",
       "    </tr>\n",
       "  </thead>\n",
       "  <tbody>\n",
       "    <tr>\n",
       "      <td>0</td>\n",
       "      <td>1</td>\n",
       "      <td>36.2247</td>\n",
       "      <td>10.7733</td>\n",
       "      <td>0.243897</td>\n",
       "      <td>596</td>\n",
       "      <td>100.671</td>\n",
       "      <td>0.0</td>\n",
       "      <td>0.0</td>\n",
       "      <td>1</td>\n",
       "      <td>28</td>\n",
       "      <td>...</td>\n",
       "      <td>1</td>\n",
       "      <td>57</td>\n",
       "      <td>0.0</td>\n",
       "      <td>0.280</td>\n",
       "      <td>240</td>\n",
       "      <td>5.99375</td>\n",
       "      <td>0</td>\n",
       "      <td>0.0</td>\n",
       "      <td>4</td>\n",
       "      <td>14.9382</td>\n",
       "    </tr>\n",
       "    <tr>\n",
       "      <td>1</td>\n",
       "      <td>1</td>\n",
       "      <td>35.7343</td>\n",
       "      <td>17.4551</td>\n",
       "      <td>0.243897</td>\n",
       "      <td>600</td>\n",
       "      <td>100.000</td>\n",
       "      <td>0.0</td>\n",
       "      <td>0.0</td>\n",
       "      <td>1</td>\n",
       "      <td>14</td>\n",
       "      <td>...</td>\n",
       "      <td>1</td>\n",
       "      <td>57</td>\n",
       "      <td>0.0</td>\n",
       "      <td>0.175</td>\n",
       "      <td>240</td>\n",
       "      <td>5.99375</td>\n",
       "      <td>0</td>\n",
       "      <td>0.0</td>\n",
       "      <td>4</td>\n",
       "      <td>14.8827</td>\n",
       "    </tr>\n",
       "  </tbody>\n",
       "</table>\n",
       "<p>2 rows × 23 columns</p>\n",
       "</div>"
      ],
      "text/plain": [
       "   Fatal       S1       S2        S3   S4       S5   S6   S7  S8  S9  ...  \\\n",
       "0      1  36.2247  10.7733  0.243897  596  100.671  0.0  0.0   1  28  ...   \n",
       "1      1  35.7343  17.4551  0.243897  600  100.000  0.0  0.0   1  14  ...   \n",
       "\n",
       "   S13  S14  S15    S16  S17      S18  S19  S20  S21      S22  \n",
       "0    1   57  0.0  0.280  240  5.99375    0  0.0    4  14.9382  \n",
       "1    1   57  0.0  0.175  240  5.99375    0  0.0    4  14.8827  \n",
       "\n",
       "[2 rows x 23 columns]"
      ]
     },
     "execution_count": 1,
     "metadata": {},
     "output_type": "execute_result"
    }
   ],
   "source": [
    "import pandas as pd\n",
    "import numpy as np\n",
    "import matplotlib.pyplot as plt\n",
    "%matplotlib inline\n",
    "\n",
    "from sklearn import tree\n",
    "\n",
    "car_test = pd.read_csv('Car Accidents IOT/Car Accidents IOT/test.csv')\n",
    "car_train = pd.read_csv('Car Accidents IOT/Car Accidents IOT/train.csv')\n",
    "\n",
    "car_train.head(2)"
   ]
  },
  {
   "cell_type": "code",
   "execution_count": 2,
   "metadata": {},
   "outputs": [
    {
     "data": {
      "text/plain": [
       "(9065, 23)"
      ]
     },
     "execution_count": 2,
     "metadata": {},
     "output_type": "execute_result"
    }
   ],
   "source": [
    "car_train.shape\n",
    "car_test.shape"
   ]
  },
  {
   "cell_type": "code",
   "execution_count": 3,
   "metadata": {},
   "outputs": [],
   "source": [
    "x = car_train [ car_train.columns[1:23] ]\n",
    "y = car_train['Fatal']"
   ]
  },
  {
   "cell_type": "code",
   "execution_count": 4,
   "metadata": {},
   "outputs": [],
   "source": [
    "from sklearn.svm import SVC\n",
    "import sklearn\n",
    "# Build Model\n",
    "model = SVC()"
   ]
  },
  {
   "cell_type": "code",
   "execution_count": 5,
   "metadata": {},
   "outputs": [],
   "source": [
    "from sklearn.model_selection import train_test_split\n",
    "\n",
    "x_train, x_test, y_train, y_test = train_test_split(x, y,random_state=0)"
   ]
  },
  {
   "cell_type": "code",
   "execution_count": 6,
   "metadata": {},
   "outputs": [
    {
     "data": {
      "text/plain": [
       "(            S1        S2        S3    S4        S5      S6       S7  S8  S9  \\\n",
       " 6591   39.2731  11.30020  0.271141  1024   58.5938   0.019  169.777   0   0   \n",
       " 5642   32.3629  11.04300  0.255573   564  106.3830   0.000    0.000   4   2   \n",
       " 7262   38.7342  13.63270  0.132327   760   78.9474   0.000    0.000   0   6   \n",
       " 2804   33.9858  12.15500  0.116759  1032   58.1395   0.000    0.000   0   0   \n",
       " 2985   30.3832  16.25810  0.103786   868   69.1244   0.000    0.000   0 -16   \n",
       " ...        ...       ...       ...   ...       ...     ...      ...  ..  ..   \n",
       " 13123  29.3721   8.41807  0.083029   748   80.2139   0.009  154.955   0   0   \n",
       " 3264   46.1048   9.50581  0.097299   856   70.0935  26.241  193.118   0 -76   \n",
       " 9845   30.0267   5.84163  0.083029   632   94.9367   0.048  136.705   0   0   \n",
       " 10799  39.8548  14.99880  0.062272   832   72.1154  27.887  331.206   0   0   \n",
       " 2732   39.5232  21.40750  0.098597   936   64.1026   0.000    0.000   0  22   \n",
       " \n",
       "             S10  ...  S13  S14   S15    S16   S17        S18  S19   S20  S21  \\\n",
       " 6591   0.015875  ...    1   72   0.0 -0.070   496    9.01250    0   0.0    1   \n",
       " 5642   0.015812  ...    1   70   0.0  0.175   496    5.99375    0  13.6    4   \n",
       " 7262   0.016190  ...    1   73   0.0  0.175   240    3.01875    0  15.4    4   \n",
       " 2804   0.017261  ...    1   36   0.0 -0.560   752  414.00600    0   0.0    1   \n",
       " 2985   0.015371  ...    1   65   0.0  0.175   752    7.48125    0  21.3    4   \n",
       " ...         ...  ...  ...  ...   ...    ...   ...        ...  ...   ...  ...   \n",
       " 13123  0.016001  ...    1   54   0.0 -0.455  1008   52.50000    1   0.0    1   \n",
       " 3264   0.016631  ...    1   74   0.0 -0.280   255    0.00000    0  25.0    4   \n",
       " 9845   0.014426  ...    1   51   0.0  0.070   240   11.98750    0   0.0    1   \n",
       " 10799  0.016190  ...    1   59   0.0  0.000   511    0.00000    0  13.2    4   \n",
       " 2732   0.013103  ...    0   72  15.2 -0.070   767    1.48750    0   0.0    4   \n",
       " \n",
       "             S22  \n",
       " 6591   17.16230  \n",
       " 5642   16.21390  \n",
       " 7262   10.22770  \n",
       " 2804    7.41688  \n",
       " 2985    7.06505  \n",
       " ...         ...  \n",
       " 13123  12.32430  \n",
       " 3264    8.39836  \n",
       " 9845    5.23259  \n",
       " 10799   7.00535  \n",
       " 2732    7.39281  \n",
       " \n",
       " [11331 rows x 22 columns],\n",
       "             S1        S2        S3    S4        S5     S6       S7  S8  S9  \\\n",
       " 2310   32.7687  10.53340  0.075245   784   76.5306   0.00    0.000   0  10   \n",
       " 9462   42.7385   9.80423  0.127138  1064   56.3910   0.00    0.000   0  -8   \n",
       " 4816   30.1920  17.95660  0.070056   792   75.7576   0.00    0.000   0  -8   \n",
       " 1347   33.9630   6.72586  0.245194   660   90.9091   0.00    0.000   4   0   \n",
       " 3488   31.7340  14.58800  0.114165   876   68.4932   0.00    0.000   0  -4   \n",
       " ...        ...       ...       ...   ...       ...    ...      ...  ..  ..   \n",
       " 8851   39.7435  11.38220  0.081731   900   66.6667   0.00    0.000   0  52   \n",
       " 5120   30.9439  11.85480  0.083029   896   66.9643   0.00    0.000   0  -4   \n",
       " 12911  35.0639  15.79030  0.107678   732   81.9672   0.00    0.000   0  24   \n",
       " 6639   33.8854  10.70320  0.272438   592  101.3510   0.00    0.000   4  -4   \n",
       " 8370   32.4130  12.80340  0.106381   844   71.0900  29.82  347.684   0 -28   \n",
       " \n",
       "             S10  ...  S13  S14   S15    S16   S17      S18  S19   S20  S21  \\\n",
       " 2310   0.016568  ...    1   64   0.0 -0.070   767  1.48750    0  18.0    4   \n",
       " 9462   0.016379  ...    1   51   0.0  0.000   255  1.48750    1   0.0    4   \n",
       " 4816   0.015875  ...    1   75   0.0 -0.175   255  3.01875    0   0.0    4   \n",
       " 1347   0.014237  ...    0    0   0.0 -0.070   767  1.48750    0  20.2    4   \n",
       " 3488   0.015938  ...    1   65   0.0 -0.070   511  3.01875    0   0.0    4   \n",
       " ...         ...  ...  ...  ...   ...    ...   ...      ...  ...   ...  ...   \n",
       " 8851   0.018647  ...    1   36   0.0  0.070   496  1.48750    0   9.3    4   \n",
       " 5120   0.015749  ...    0  100   0.0 -0.455   511  0.00000    0   0.0    4   \n",
       " 12911  0.017072  ...    1   50  20.0 -0.175   767  7.48125    1   0.0    3   \n",
       " 6639   0.016316  ...    1   71   0.0  0.000   511  3.01875    0  16.9    4   \n",
       " 8370   0.016631  ...    1   37   0.0  0.070  1008  3.01875    0  19.9    4   \n",
       " \n",
       "             S22  \n",
       " 2310    7.77346  \n",
       " 9462    7.62887  \n",
       " 4816    8.48526  \n",
       " 1347   15.10330  \n",
       " 3488    7.40138  \n",
       " ...         ...  \n",
       " 8851    5.46141  \n",
       " 5120    8.66079  \n",
       " 12911  17.26240  \n",
       " 6639   16.23350  \n",
       " 8370    4.96833  \n",
       " \n",
       " [3778 rows x 22 columns],\n",
       " 6591     1\n",
       " 5642     1\n",
       " 7262     1\n",
       " 2804     0\n",
       " 2985     0\n",
       "         ..\n",
       " 13123    0\n",
       " 3264     0\n",
       " 9845     1\n",
       " 10799    0\n",
       " 2732     0\n",
       " Name: Fatal, Length: 11331, dtype: int64,\n",
       " 2310     1\n",
       " 9462     0\n",
       " 4816     1\n",
       " 1347     1\n",
       " 3488     0\n",
       "         ..\n",
       " 8851     0\n",
       " 5120     0\n",
       " 12911    1\n",
       " 6639     1\n",
       " 8370     0\n",
       " Name: Fatal, Length: 3778, dtype: int64)"
      ]
     },
     "execution_count": 6,
     "metadata": {},
     "output_type": "execute_result"
    }
   ],
   "source": [
    "x_train, x_test, y_train, y_test "
   ]
  },
  {
   "cell_type": "code",
   "execution_count": 7,
   "metadata": {},
   "outputs": [
    {
     "name": "stderr",
     "output_type": "stream",
     "text": [
      "C:\\ProgramData\\Anaconda3\\lib\\site-packages\\sklearn\\svm\\base.py:193: FutureWarning: The default value of gamma will change from 'auto' to 'scale' in version 0.22 to account better for unscaled features. Set gamma explicitly to 'auto' or 'scale' to avoid this warning.\n",
      "  \"avoid this warning.\", FutureWarning)\n"
     ]
    },
    {
     "data": {
      "text/plain": [
       "SVC(C=1.0, cache_size=200, class_weight=None, coef0=0.0,\n",
       "    decision_function_shape='ovr', degree=3, gamma='auto_deprecated',\n",
       "    kernel='rbf', max_iter=-1, probability=False, random_state=None,\n",
       "    shrinking=True, tol=0.001, verbose=False)"
      ]
     },
     "execution_count": 7,
     "metadata": {},
     "output_type": "execute_result"
    }
   ],
   "source": [
    "# Train the model\n",
    "model.fit(x_train, y_train)"
   ]
  },
  {
   "cell_type": "code",
   "execution_count": 8,
   "metadata": {},
   "outputs": [],
   "source": [
    "# Predict using test data 0 y_predicted\n",
    "y_predicted = model.predict(x_test)\n",
    "y_expected = y_test\n"
   ]
  },
  {
   "cell_type": "code",
   "execution_count": 9,
   "metadata": {},
   "outputs": [
    {
     "data": {
      "text/plain": [
       "0.5868184224457385"
      ]
     },
     "execution_count": 9,
     "metadata": {},
     "output_type": "execute_result"
    }
   ],
   "source": [
    "from sklearn.metrics import accuracy_score\n",
    "accuracy = accuracy_score(y_expected, y_predicted)\n",
    "accuracy"
   ]
  },
  {
   "cell_type": "markdown",
   "metadata": {},
   "source": [
    "Accuracy is 58%"
   ]
  },
  {
   "cell_type": "code",
   "execution_count": null,
   "metadata": {},
   "outputs": [],
   "source": []
  }
 ],
 "metadata": {
  "kernelspec": {
   "display_name": "Python 3",
   "language": "python",
   "name": "python3"
  },
  "language_info": {
   "codemirror_mode": {
    "name": "ipython",
    "version": 3
   },
   "file_extension": ".py",
   "mimetype": "text/x-python",
   "name": "python",
   "nbconvert_exporter": "python",
   "pygments_lexer": "ipython3",
   "version": "3.7.4"
  }
 },
 "nbformat": 4,
 "nbformat_minor": 2
}
